{
 "cells": [
  {
   "cell_type": "markdown",
   "metadata": {},
   "source": [
    "# Unit 5 - Financial Planning"
   ]
  },
  {
   "cell_type": "code",
   "execution_count": 1,
   "metadata": {},
   "outputs": [],
   "source": [
    "# Initial imports\n",
    "import os\n",
    "import requests\n",
    "import pandas as pd\n",
    "from dotenv import load_dotenv\n",
    "import alpaca_trade_api as tradeapi\n",
    "from MCForecastTools import MCSimulation\n",
    "\n",
    "%matplotlib inline"
   ]
  },
  {
   "cell_type": "code",
   "execution_count": 2,
   "metadata": {},
   "outputs": [
    {
     "data": {
      "text/plain": [
       "True"
      ]
     },
     "execution_count": 2,
     "metadata": {},
     "output_type": "execute_result"
    }
   ],
   "source": [
    "# Load .env enviroment variables\n",
    "load_dotenv()"
   ]
  },
  {
   "cell_type": "markdown",
   "metadata": {},
   "source": [
    "## Part 1 - Personal Finance Planner"
   ]
  },
  {
   "cell_type": "markdown",
   "metadata": {},
   "source": [
    "### Collect Crypto Prices Using the `requests` Library"
   ]
  },
  {
   "cell_type": "code",
   "execution_count": 3,
   "metadata": {},
   "outputs": [
    {
     "data": {
      "text/html": [
       "<div>\n",
       "<style scoped>\n",
       "    .dataframe tbody tr th:only-of-type {\n",
       "        vertical-align: middle;\n",
       "    }\n",
       "\n",
       "    .dataframe tbody tr th {\n",
       "        vertical-align: top;\n",
       "    }\n",
       "\n",
       "    .dataframe thead th {\n",
       "        text-align: right;\n",
       "    }\n",
       "</style>\n",
       "<table border=\"1\" class=\"dataframe\">\n",
       "  <thead>\n",
       "    <tr style=\"text-align: right;\">\n",
       "      <th></th>\n",
       "      <th>Holding Amount</th>\n",
       "    </tr>\n",
       "  </thead>\n",
       "  <tbody>\n",
       "    <tr>\n",
       "      <th>BTC</th>\n",
       "      <td>1.2</td>\n",
       "    </tr>\n",
       "    <tr>\n",
       "      <th>ETH</th>\n",
       "      <td>5.3</td>\n",
       "    </tr>\n",
       "  </tbody>\n",
       "</table>\n",
       "</div>"
      ],
      "text/plain": [
       "     Holding Amount\n",
       "BTC             1.2\n",
       "ETH             5.3"
      ]
     },
     "execution_count": 3,
     "metadata": {},
     "output_type": "execute_result"
    }
   ],
   "source": [
    "# Set current amount of crypto assets\n",
    "crypto_amount = {\n",
    "    \"Holding Amount\": [1.2, 5.3]\n",
    "}\n",
    "\n",
    "# Set the tickers\n",
    "tickers = [\"BTC\", \"ETH\"]\n",
    "\n",
    "# Create the shares DataFrame with `tickers` as index\n",
    "df_crypto = pd.DataFrame(crypto_amount, index=tickers)\n",
    "\n",
    "# Display shares data\n",
    "df_crypto"
   ]
  },
  {
   "cell_type": "code",
   "execution_count": 4,
   "metadata": {},
   "outputs": [
    {
     "data": {
      "text/plain": [
       "{'data': {'1027': {'id': 1027,\n",
       "   'name': 'Ethereum',\n",
       "   'symbol': 'ETH',\n",
       "   'website_slug': 'ethereum',\n",
       "   'rank': 2,\n",
       "   'circulating_supply': 116286547,\n",
       "   'total_supply': 116286547,\n",
       "   'max_supply': 0,\n",
       "   'quotes': {'USD': {'price': 2486.23,\n",
       "     'volume_24h': 27583285541,\n",
       "     'market_cap': 290169681008,\n",
       "     'percentage_change_1h': -0.182655854766797,\n",
       "     'percentage_change_24h': 4.627962527546,\n",
       "     'percentage_change_7d': -8.30956029261359,\n",
       "     'percent_change_1h': -0.182655854766797,\n",
       "     'percent_change_24h': 4.627962527546,\n",
       "     'percent_change_7d': -8.30956029261359},\n",
       "    'CAD': {'price': 3022.261188,\n",
       "     'volume_24h': 33530241903.6396,\n",
       "     'market_cap': 352730264233.325,\n",
       "     'percent_change_1h': -0.182655854766797,\n",
       "     'percent_change_24h': 4.627962527546,\n",
       "     'percent_change_7d': -8.30956029261359}},\n",
       "   'last_updated': 1623670157}},\n",
       " 'metadata': {'timestamp': 1623670157,\n",
       "  'num_cryptocurrencies': 1290,\n",
       "  'error': None}}"
      ]
     },
     "execution_count": 4,
     "metadata": {},
     "output_type": "execute_result"
    }
   ],
   "source": [
    "# Crypto API URLs\n",
    "btc_url = \"https://api.alternative.me/v2/ticker/Bitcoin/?convert=CAD\"\n",
    "eth_url = \"https://api.alternative.me/v2/ticker/Ethereum/?convert=CAD\"\n",
    "\n",
    "requests.get(btc_url).json()\n",
    "requests.get(eth_url).json()"
   ]
  },
  {
   "cell_type": "code",
   "execution_count": 5,
   "metadata": {},
   "outputs": [
    {
     "name": "stdout",
     "output_type": "stream",
     "text": [
      "The current value of your 1.2 BTC is $57288.31\n",
      "The current value of your 5.3 ETH is $16017.98\n"
     ]
    }
   ],
   "source": [
    "# Fetch current BTC price\n",
    "btc = requests.get(btc_url).json()\n",
    "price_btc= btc['data']['1']['quotes']['CAD']['price']\n",
    "\n",
    "# Fetch current ETH price\n",
    "eth = requests.get(eth_url).json()\n",
    "price_eth= eth['data']['1027']['quotes']['CAD']['price']\n",
    "\n",
    "# Compute current value of my crpto\n",
    "my_btc=df_crypto.iloc[0,0]\n",
    "my_eth=df_crypto.iloc[1,0]\n",
    "\n",
    "my_btc_value=df_crypto.iloc[0,0]*price_btc\n",
    "my_eth_value=df_crypto.iloc[1,0]*price_eth\n",
    "\n",
    "# Print current crypto wallet balance\n",
    "print(f\"The current value of your {my_btc} BTC is ${my_btc_value:0.2f}\")\n",
    "print(f\"The current value of your {my_eth} ETH is ${my_eth_value:0.2f}\")"
   ]
  },
  {
   "cell_type": "markdown",
   "metadata": {},
   "source": [
    "### Collect Investments Data Using Alpaca: `SPY` (stocks) and `AGG` (bonds)"
   ]
  },
  {
   "cell_type": "code",
   "execution_count": 6,
   "metadata": {},
   "outputs": [],
   "source": [
    "# Set current amount of shares\n",
    "my_agg = 200\n",
    "my_spy = 50"
   ]
  },
  {
   "cell_type": "code",
   "execution_count": 7,
   "metadata": {},
   "outputs": [
    {
     "name": "stdout",
     "output_type": "stream",
     "text": [
      "Alpaca Key type: <class 'str'>\n",
      "Alpaca Secret Key type: <class 'str'>\n"
     ]
    }
   ],
   "source": [
    "# Set Alpaca API key and secret\n",
    "load_dotenv()\n",
    "\n",
    "alpaca_api_key = os.getenv(\"ALPACA_API_KEY\")\n",
    "alpaca_secret_key = os.getenv(\"ALPACA_SECRET_KEY\")\n",
    "\n",
    "print(f\"Alpaca Key type: {type(alpaca_api_key)}\")\n",
    "print(f\"Alpaca Secret Key type: {type(alpaca_secret_key)}\")\n",
    "\n",
    "# Create the Alpaca API object\n",
    "alpaca = tradeapi.REST(\n",
    "    alpaca_api_key,\n",
    "    alpaca_secret_key,\n",
    "    api_version=\"v2\")"
   ]
  },
  {
   "cell_type": "code",
   "execution_count": 8,
   "metadata": {},
   "outputs": [
    {
     "data": {
      "text/html": [
       "<div>\n",
       "<style scoped>\n",
       "    .dataframe tbody tr th:only-of-type {\n",
       "        vertical-align: middle;\n",
       "    }\n",
       "\n",
       "    .dataframe tbody tr th {\n",
       "        vertical-align: top;\n",
       "    }\n",
       "\n",
       "    .dataframe thead tr th {\n",
       "        text-align: left;\n",
       "    }\n",
       "\n",
       "    .dataframe thead tr:last-of-type th {\n",
       "        text-align: right;\n",
       "    }\n",
       "</style>\n",
       "<table border=\"1\" class=\"dataframe\">\n",
       "  <thead>\n",
       "    <tr>\n",
       "      <th></th>\n",
       "      <th colspan=\"5\" halign=\"left\">AGG</th>\n",
       "      <th colspan=\"5\" halign=\"left\">SPY</th>\n",
       "    </tr>\n",
       "    <tr>\n",
       "      <th></th>\n",
       "      <th>open</th>\n",
       "      <th>high</th>\n",
       "      <th>low</th>\n",
       "      <th>close</th>\n",
       "      <th>volume</th>\n",
       "      <th>open</th>\n",
       "      <th>high</th>\n",
       "      <th>low</th>\n",
       "      <th>close</th>\n",
       "      <th>volume</th>\n",
       "    </tr>\n",
       "    <tr>\n",
       "      <th>time</th>\n",
       "      <th></th>\n",
       "      <th></th>\n",
       "      <th></th>\n",
       "      <th></th>\n",
       "      <th></th>\n",
       "      <th></th>\n",
       "      <th></th>\n",
       "      <th></th>\n",
       "      <th></th>\n",
       "      <th></th>\n",
       "    </tr>\n",
       "  </thead>\n",
       "  <tbody>\n",
       "    <tr>\n",
       "      <th>2021-06-09 00:00:00-04:00</th>\n",
       "      <td>115.43</td>\n",
       "      <td>115.43</td>\n",
       "      <td>114.97</td>\n",
       "      <td>115.05</td>\n",
       "      <td>3418086</td>\n",
       "      <td>423.18</td>\n",
       "      <td>423.26</td>\n",
       "      <td>421.41</td>\n",
       "      <td>421.62</td>\n",
       "      <td>38368598</td>\n",
       "    </tr>\n",
       "  </tbody>\n",
       "</table>\n",
       "</div>"
      ],
      "text/plain": [
       "                              AGG                                      SPY  \\\n",
       "                             open    high     low   close   volume    open   \n",
       "time                                                                         \n",
       "2021-06-09 00:00:00-04:00  115.43  115.43  114.97  115.05  3418086  423.18   \n",
       "\n",
       "                                                             \n",
       "                             high     low   close    volume  \n",
       "time                                                         \n",
       "2021-06-09 00:00:00-04:00  423.26  421.41  421.62  38368598  "
      ]
     },
     "execution_count": 8,
     "metadata": {},
     "output_type": "execute_result"
    }
   ],
   "source": [
    "# Format current date as ISO format\n",
    "today = pd.Timestamp(\"2021-06-09\", tz=\"America/New_York\").isoformat()\n",
    "\n",
    "# Set the tickers\n",
    "tickers = [\"AGG\", \"SPY\"]\n",
    "\n",
    "# Set timeframe to '1D' for Alpaca API\n",
    "timeframe = \"1D\"\n",
    "\n",
    "# Get current closing prices for SPY and AGG\n",
    "# (use a limit=1000 parameter to call the most recent 1000 days of data)\n",
    "df_stockbond = alpaca.get_barset(\n",
    "    tickers,\n",
    "    timeframe,\n",
    "    start = today,\n",
    "    end = today,\n",
    "    limit = 1000\n",
    ").df\n",
    "\n",
    "# Preview DataFrame\n",
    "df_stockbond.head(10)"
   ]
  },
  {
   "cell_type": "code",
   "execution_count": 9,
   "metadata": {},
   "outputs": [
    {
     "name": "stdout",
     "output_type": "stream",
     "text": [
      "Current AGG closing price: $115.05\n",
      "Current SPY closing price: $421.62\n"
     ]
    }
   ],
   "source": [
    "# Pick AGG and SPY close prices\n",
    "df_closing_prices = pd.DataFrame()\n",
    "\n",
    "agg_close_price= float(df_stockbond[\"AGG\"][\"close\"])\n",
    "spy_close_price=float(df_stockbond[\"SPY\"][\"close\"])\n",
    "\n",
    "# Print AGG and SPY close prices\n",
    "print(f\"Current AGG closing price: ${agg_close_price}\")\n",
    "print(f\"Current SPY closing price: ${spy_close_price}\")"
   ]
  },
  {
   "cell_type": "code",
   "execution_count": 10,
   "metadata": {},
   "outputs": [
    {
     "name": "stdout",
     "output_type": "stream",
     "text": [
      "The current value of your 200 AGG shares is $23010.00\n",
      "The current value of your 50 SPY shares is $21081.00\n"
     ]
    }
   ],
   "source": [
    "# Compute the current value of shares\n",
    "my_agg_value = agg_close_price * my_agg\n",
    "my_spy_value = spy_close_price * my_spy\n",
    "\n",
    "# Print current value of shares\n",
    "print(f\"The current value of your {my_agg} AGG shares is ${my_agg_value:0.2f}\")\n",
    "print(f\"The current value of your {my_spy} SPY shares is ${my_spy_value:0.2f}\")"
   ]
  },
  {
   "cell_type": "markdown",
   "metadata": {},
   "source": [
    "### Savings Health Analysis"
   ]
  },
  {
   "cell_type": "code",
   "execution_count": 11,
   "metadata": {},
   "outputs": [
    {
     "data": {
      "text/html": [
       "<div>\n",
       "<style scoped>\n",
       "    .dataframe tbody tr th:only-of-type {\n",
       "        vertical-align: middle;\n",
       "    }\n",
       "\n",
       "    .dataframe tbody tr th {\n",
       "        vertical-align: top;\n",
       "    }\n",
       "\n",
       "    .dataframe thead th {\n",
       "        text-align: right;\n",
       "    }\n",
       "</style>\n",
       "<table border=\"1\" class=\"dataframe\">\n",
       "  <thead>\n",
       "    <tr style=\"text-align: right;\">\n",
       "      <th></th>\n",
       "      <th>amount</th>\n",
       "    </tr>\n",
       "  </thead>\n",
       "  <tbody>\n",
       "    <tr>\n",
       "      <th>crypto</th>\n",
       "      <td>73306.294856</td>\n",
       "    </tr>\n",
       "    <tr>\n",
       "      <th>shares</th>\n",
       "      <td>44091.000000</td>\n",
       "    </tr>\n",
       "  </tbody>\n",
       "</table>\n",
       "</div>"
      ],
      "text/plain": [
       "              amount\n",
       "crypto  73306.294856\n",
       "shares  44091.000000"
      ]
     },
     "metadata": {},
     "output_type": "display_data"
    }
   ],
   "source": [
    "# Set monthly household income\n",
    "monthly_income=12000\n",
    "\n",
    "# Consolidate financial assets data\n",
    "savings_data = [\n",
    "    my_btc_value + my_eth_value,\n",
    "    my_spy_value + my_agg_value,\n",
    "]\n",
    "\n",
    "# Create savings DataFrame\n",
    "df_savings= pd.DataFrame(savings_data, columns=[\"amount\"], index=[\"crypto\", \"shares\"])\n",
    "\n",
    "# Display savings DataFrame\n",
    "display(df_savings)"
   ]
  },
  {
   "cell_type": "code",
   "execution_count": 12,
   "metadata": {},
   "outputs": [
    {
     "data": {
      "text/plain": [
       "<AxesSubplot:title={'center':'Stocks Portfolio Composition'}, ylabel='amount'>"
      ]
     },
     "execution_count": 12,
     "metadata": {},
     "output_type": "execute_result"
    },
    {
     "data": {
      "image/png": "[encoded data removed]",
      "text/plain": [
       "<Figure size 432x288 with 1 Axes>"
      ]
     },
     "metadata": {},
     "output_type": "display_data"
    }
   ],
   "source": [
    "# Plot savings pie chart\n",
    "df_savings.plot.pie(y=\"amount\", title=\"Stocks Portfolio Composition\")"
   ]
  },
  {
   "cell_type": "code",
   "execution_count": 13,
   "metadata": {},
   "outputs": [
    {
     "name": "stdout",
     "output_type": "stream",
     "text": [
      "congratulations for having enough money in this fund!\n"
     ]
    }
   ],
   "source": [
    "# Set ideal emergency fund\n",
    "emergency_fund = monthly_income * 3\n",
    "\n",
    "# Calculate total amount of savings\n",
    "total_savings = my_btc_value + my_eth_value+my_spy_value + my_agg_value\n",
    "\n",
    "shortfall=emergency_fund-total_savings\n",
    "\n",
    "# Validate saving health\n",
    "if total_savings > emergency_fund:\n",
    "    print(f\"congratulations for having enough money in this fund!\")\n",
    "if total_savings == emergency_fund:\n",
    "    print(f\"congratulations on reaching this financial goal.\")\n",
    "if total_savings < emergency_fund:\n",
    "    print(f\"You are ${shortfall:0.2f} away from reaching this financial goal.\")   "
   ]
  },
  {
   "cell_type": "markdown",
   "metadata": {},
   "source": [
    "## Part 2 - Retirement Planning\n",
    "\n",
    "### Monte Carlo Simulation"
   ]
  },
  {
   "cell_type": "code",
   "execution_count": 14,
   "metadata": {},
   "outputs": [],
   "source": [
    "# Set start and end dates of five years back from today.\n",
    "# Sample results may vary from the solution based on the time frame chosen\n",
    "start_date = pd.Timestamp('2016-06-01', tz='America/New_York').isoformat()\n",
    "end_date = pd.Timestamp('2021-06-01', tz='America/New_York').isoformat()"
   ]
  },
  {
   "cell_type": "code",
   "execution_count": 15,
   "metadata": {},
   "outputs": [
    {
     "data": {
      "text/html": [
       "<div>\n",
       "<style scoped>\n",
       "    .dataframe tbody tr th:only-of-type {\n",
       "        vertical-align: middle;\n",
       "    }\n",
       "\n",
       "    .dataframe tbody tr th {\n",
       "        vertical-align: top;\n",
       "    }\n",
       "\n",
       "    .dataframe thead tr th {\n",
       "        text-align: left;\n",
       "    }\n",
       "\n",
       "    .dataframe thead tr:last-of-type th {\n",
       "        text-align: right;\n",
       "    }\n",
       "</style>\n",
       "<table border=\"1\" class=\"dataframe\">\n",
       "  <thead>\n",
       "    <tr>\n",
       "      <th></th>\n",
       "      <th colspan=\"5\" halign=\"left\">AGG</th>\n",
       "      <th colspan=\"5\" halign=\"left\">SPY</th>\n",
       "    </tr>\n",
       "    <tr>\n",
       "      <th></th>\n",
       "      <th>open</th>\n",
       "      <th>high</th>\n",
       "      <th>low</th>\n",
       "      <th>close</th>\n",
       "      <th>volume</th>\n",
       "      <th>open</th>\n",
       "      <th>high</th>\n",
       "      <th>low</th>\n",
       "      <th>close</th>\n",
       "      <th>volume</th>\n",
       "    </tr>\n",
       "    <tr>\n",
       "      <th>time</th>\n",
       "      <th></th>\n",
       "      <th></th>\n",
       "      <th></th>\n",
       "      <th></th>\n",
       "      <th></th>\n",
       "      <th></th>\n",
       "      <th></th>\n",
       "      <th></th>\n",
       "      <th></th>\n",
       "      <th></th>\n",
       "    </tr>\n",
       "  </thead>\n",
       "  <tbody>\n",
       "    <tr>\n",
       "      <th>2017-06-12 00:00:00-04:00</th>\n",
       "      <td>109.51</td>\n",
       "      <td>109.6958</td>\n",
       "      <td>109.47</td>\n",
       "      <td>109.555</td>\n",
       "      <td>1184601</td>\n",
       "      <td>243.14</td>\n",
       "      <td>243.42</td>\n",
       "      <td>242.3800</td>\n",
       "      <td>243.34</td>\n",
       "      <td>57096569</td>\n",
       "    </tr>\n",
       "    <tr>\n",
       "      <th>2017-06-13 00:00:00-04:00</th>\n",
       "      <td>109.43</td>\n",
       "      <td>109.6000</td>\n",
       "      <td>109.43</td>\n",
       "      <td>109.580</td>\n",
       "      <td>1324388</td>\n",
       "      <td>243.99</td>\n",
       "      <td>244.61</td>\n",
       "      <td>243.5799</td>\n",
       "      <td>244.52</td>\n",
       "      <td>43470532</td>\n",
       "    </tr>\n",
       "    <tr>\n",
       "      <th>2017-06-14 00:00:00-04:00</th>\n",
       "      <td>110.00</td>\n",
       "      <td>110.1800</td>\n",
       "      <td>109.85</td>\n",
       "      <td>109.950</td>\n",
       "      <td>2304819</td>\n",
       "      <td>244.86</td>\n",
       "      <td>244.87</td>\n",
       "      <td>243.2900</td>\n",
       "      <td>244.26</td>\n",
       "      <td>55098826</td>\n",
       "    </tr>\n",
       "    <tr>\n",
       "      <th>2017-06-15 00:00:00-04:00</th>\n",
       "      <td>109.90</td>\n",
       "      <td>109.9000</td>\n",
       "      <td>109.78</td>\n",
       "      <td>109.870</td>\n",
       "      <td>1938779</td>\n",
       "      <td>242.68</td>\n",
       "      <td>243.91</td>\n",
       "      <td>242.3600</td>\n",
       "      <td>243.79</td>\n",
       "      <td>51523068</td>\n",
       "    </tr>\n",
       "    <tr>\n",
       "      <th>2017-06-16 00:00:00-04:00</th>\n",
       "      <td>109.86</td>\n",
       "      <td>109.9700</td>\n",
       "      <td>109.85</td>\n",
       "      <td>109.945</td>\n",
       "      <td>1709677</td>\n",
       "      <td>242.77</td>\n",
       "      <td>242.83</td>\n",
       "      <td>241.6337</td>\n",
       "      <td>242.63</td>\n",
       "      <td>48998243</td>\n",
       "    </tr>\n",
       "    <tr>\n",
       "      <th>2017-06-19 00:00:00-04:00</th>\n",
       "      <td>109.87</td>\n",
       "      <td>109.9000</td>\n",
       "      <td>109.74</td>\n",
       "      <td>109.790</td>\n",
       "      <td>1375531</td>\n",
       "      <td>243.59</td>\n",
       "      <td>244.73</td>\n",
       "      <td>243.4800</td>\n",
       "      <td>244.64</td>\n",
       "      <td>42503652</td>\n",
       "    </tr>\n",
       "    <tr>\n",
       "      <th>2017-06-20 00:00:00-04:00</th>\n",
       "      <td>109.85</td>\n",
       "      <td>110.0300</td>\n",
       "      <td>109.80</td>\n",
       "      <td>109.975</td>\n",
       "      <td>2010628</td>\n",
       "      <td>244.25</td>\n",
       "      <td>244.26</td>\n",
       "      <td>242.9900</td>\n",
       "      <td>243.04</td>\n",
       "      <td>39203167</td>\n",
       "    </tr>\n",
       "    <tr>\n",
       "      <th>2017-06-21 00:00:00-04:00</th>\n",
       "      <td>109.88</td>\n",
       "      <td>110.0400</td>\n",
       "      <td>109.88</td>\n",
       "      <td>109.980</td>\n",
       "      <td>1085301</td>\n",
       "      <td>243.43</td>\n",
       "      <td>243.59</td>\n",
       "      <td>242.4100</td>\n",
       "      <td>242.95</td>\n",
       "      <td>42746920</td>\n",
       "    </tr>\n",
       "    <tr>\n",
       "      <th>2017-06-22 00:00:00-04:00</th>\n",
       "      <td>110.06</td>\n",
       "      <td>110.0947</td>\n",
       "      <td>109.95</td>\n",
       "      <td>110.050</td>\n",
       "      <td>1295361</td>\n",
       "      <td>242.97</td>\n",
       "      <td>243.53</td>\n",
       "      <td>242.6400</td>\n",
       "      <td>242.83</td>\n",
       "      <td>32991335</td>\n",
       "    </tr>\n",
       "    <tr>\n",
       "      <th>2017-06-23 00:00:00-04:00</th>\n",
       "      <td>110.01</td>\n",
       "      <td>110.1085</td>\n",
       "      <td>109.98</td>\n",
       "      <td>110.070</td>\n",
       "      <td>1101304</td>\n",
       "      <td>242.91</td>\n",
       "      <td>243.51</td>\n",
       "      <td>242.4700</td>\n",
       "      <td>243.16</td>\n",
       "      <td>45792641</td>\n",
       "    </tr>\n",
       "  </tbody>\n",
       "</table>\n",
       "</div>"
      ],
      "text/plain": [
       "                              AGG                                         SPY  \\\n",
       "                             open      high     low    close   volume    open   \n",
       "time                                                                            \n",
       "2017-06-12 00:00:00-04:00  109.51  109.6958  109.47  109.555  1184601  243.14   \n",
       "2017-06-13 00:00:00-04:00  109.43  109.6000  109.43  109.580  1324388  243.99   \n",
       "2017-06-14 00:00:00-04:00  110.00  110.1800  109.85  109.950  2304819  244.86   \n",
       "2017-06-15 00:00:00-04:00  109.90  109.9000  109.78  109.870  1938779  242.68   \n",
       "2017-06-16 00:00:00-04:00  109.86  109.9700  109.85  109.945  1709677  242.77   \n",
       "2017-06-19 00:00:00-04:00  109.87  109.9000  109.74  109.790  1375531  243.59   \n",
       "2017-06-20 00:00:00-04:00  109.85  110.0300  109.80  109.975  2010628  244.25   \n",
       "2017-06-21 00:00:00-04:00  109.88  110.0400  109.88  109.980  1085301  243.43   \n",
       "2017-06-22 00:00:00-04:00  110.06  110.0947  109.95  110.050  1295361  242.97   \n",
       "2017-06-23 00:00:00-04:00  110.01  110.1085  109.98  110.070  1101304  242.91   \n",
       "\n",
       "                                                               \n",
       "                             high       low   close    volume  \n",
       "time                                                           \n",
       "2017-06-12 00:00:00-04:00  243.42  242.3800  243.34  57096569  \n",
       "2017-06-13 00:00:00-04:00  244.61  243.5799  244.52  43470532  \n",
       "2017-06-14 00:00:00-04:00  244.87  243.2900  244.26  55098826  \n",
       "2017-06-15 00:00:00-04:00  243.91  242.3600  243.79  51523068  \n",
       "2017-06-16 00:00:00-04:00  242.83  241.6337  242.63  48998243  \n",
       "2017-06-19 00:00:00-04:00  244.73  243.4800  244.64  42503652  \n",
       "2017-06-20 00:00:00-04:00  244.26  242.9900  243.04  39203167  \n",
       "2017-06-21 00:00:00-04:00  243.59  242.4100  242.95  42746920  \n",
       "2017-06-22 00:00:00-04:00  243.53  242.6400  242.83  32991335  \n",
       "2017-06-23 00:00:00-04:00  243.51  242.4700  243.16  45792641  "
      ]
     },
     "execution_count": 15,
     "metadata": {},
     "output_type": "execute_result"
    }
   ],
   "source": [
    "# Get 5 years' worth of historical data for SPY and AGG\n",
    "# (use a limit=1000 parameter to call the most recent 1000 days of data)\n",
    "ticker = [\"AGG\",\"SPY\"]\n",
    "\n",
    "timeframe = \"1D\"\n",
    "\n",
    "df_portfolio_5years = alpaca.get_barset(\n",
    "    tickers,\n",
    "    timeframe,\n",
    "    start= start_date,\n",
    "    end = end_date,\n",
    "    limit = 1000\n",
    ").df\n",
    "\n",
    "# Display sample data\n",
    "df_portfolio_5years.head(10)"
   ]
  },
  {
   "cell_type": "code",
   "execution_count": null,
   "metadata": {},
   "outputs": [],
   "source": [
    "# Configuring a Monte Carlo simulation to forecast 30 years cumulative returns\n",
    "num_sims = 500\n",
    "\n",
    "df_portfolio_5years = MCSimulation(\n",
    "    portfolio_data = df_portfolio_5years,\n",
    "    weights = [.60,.40],\n",
    "    num_simulation = num_sims,\n",
    "    num_trading_days = 252*30\n",
    ")"
   ]
  },
  {
   "cell_type": "code",
   "execution_count": null,
   "metadata": {},
   "outputs": [],
   "source": [
    "# Printing the simulation input data\n",
    "df_portfolio_5years.portfolio_data.head()"
   ]
  },
  {
   "cell_type": "code",
   "execution_count": 19,
   "metadata": {},
   "outputs": [
    {
     "name": "stdout",
     "output_type": "stream",
     "text": [
      "Running Monte Carlo simulation number 0.\n",
      "Running Monte Carlo simulation number 10.\n",
      "Running Monte Carlo simulation number 20.\n",
      "Running Monte Carlo simulation number 30.\n",
      "Running Monte Carlo simulation number 40.\n",
      "Running Monte Carlo simulation number 50.\n",
      "Running Monte Carlo simulation number 60.\n",
      "Running Monte Carlo simulation number 70.\n",
      "Running Monte Carlo simulation number 80.\n",
      "Running Monte Carlo simulation number 90.\n",
      "Running Monte Carlo simulation number 100.\n",
      "Running Monte Carlo simulation number 110.\n",
      "Running Monte Carlo simulation number 120.\n",
      "Running Monte Carlo simulation number 130.\n",
      "Running Monte Carlo simulation number 140.\n",
      "Running Monte Carlo simulation number 150.\n",
      "Running Monte Carlo simulation number 160.\n",
      "Running Monte Carlo simulation number 170.\n",
      "Running Monte Carlo simulation number 180.\n",
      "Running Monte Carlo simulation number 190.\n",
      "Running Monte Carlo simulation number 200.\n",
      "Running Monte Carlo simulation number 210.\n",
      "Running Monte Carlo simulation number 220.\n",
      "Running Monte Carlo simulation number 230.\n",
      "Running Monte Carlo simulation number 240.\n",
      "Running Monte Carlo simulation number 250.\n",
      "Running Monte Carlo simulation number 260.\n",
      "Running Monte Carlo simulation number 270.\n",
      "Running Monte Carlo simulation number 280.\n",
      "Running Monte Carlo simulation number 290.\n",
      "Running Monte Carlo simulation number 300.\n",
      "Running Monte Carlo simulation number 310.\n",
      "Running Monte Carlo simulation number 320.\n",
      "Running Monte Carlo simulation number 330.\n",
      "Running Monte Carlo simulation number 340.\n",
      "Running Monte Carlo simulation number 350.\n",
      "Running Monte Carlo simulation number 360.\n",
      "Running Monte Carlo simulation number 370.\n",
      "Running Monte Carlo simulation number 380.\n",
      "Running Monte Carlo simulation number 390.\n",
      "Running Monte Carlo simulation number 400.\n",
      "Running Monte Carlo simulation number 410.\n",
      "Running Monte Carlo simulation number 420.\n",
      "Running Monte Carlo simulation number 430.\n",
      "Running Monte Carlo simulation number 440.\n",
      "Running Monte Carlo simulation number 450.\n",
      "Running Monte Carlo simulation number 460.\n",
      "Running Monte Carlo simulation number 470.\n",
      "Running Monte Carlo simulation number 480.\n",
      "Running Monte Carlo simulation number 490.\n"
     ]
    },
    {
     "data": {
      "text/html": [
       "<div>\n",
       "<style scoped>\n",
       "    .dataframe tbody tr th:only-of-type {\n",
       "        vertical-align: middle;\n",
       "    }\n",
       "\n",
       "    .dataframe tbody tr th {\n",
       "        vertical-align: top;\n",
       "    }\n",
       "\n",
       "    .dataframe thead th {\n",
       "        text-align: right;\n",
       "    }\n",
       "</style>\n",
       "<table border=\"1\" class=\"dataframe\">\n",
       "  <thead>\n",
       "    <tr style=\"text-align: right;\">\n",
       "      <th></th>\n",
       "      <th>0</th>\n",
       "      <th>1</th>\n",
       "      <th>2</th>\n",
       "      <th>3</th>\n",
       "      <th>4</th>\n",
       "      <th>5</th>\n",
       "      <th>6</th>\n",
       "      <th>7</th>\n",
       "      <th>8</th>\n",
       "      <th>9</th>\n",
       "      <th>...</th>\n",
       "      <th>490</th>\n",
       "      <th>491</th>\n",
       "      <th>492</th>\n",
       "      <th>493</th>\n",
       "      <th>494</th>\n",
       "      <th>495</th>\n",
       "      <th>496</th>\n",
       "      <th>497</th>\n",
       "      <th>498</th>\n",
       "      <th>499</th>\n",
       "    </tr>\n",
       "  </thead>\n",
       "  <tbody>\n",
       "    <tr>\n",
       "      <th>0</th>\n",
       "      <td>1.000000</td>\n",
       "      <td>1.000000</td>\n",
       "      <td>1.000000</td>\n",
       "      <td>1.000000</td>\n",
       "      <td>1.000000</td>\n",
       "      <td>1.000000</td>\n",
       "      <td>1.000000</td>\n",
       "      <td>1.000000</td>\n",
       "      <td>1.000000</td>\n",
       "      <td>1.000000</td>\n",
       "      <td>...</td>\n",
       "      <td>1.000000</td>\n",
       "      <td>1.000000</td>\n",
       "      <td>1.000000</td>\n",
       "      <td>1.000000</td>\n",
       "      <td>1.000000</td>\n",
       "      <td>1.000000</td>\n",
       "      <td>1.000000</td>\n",
       "      <td>1.000000</td>\n",
       "      <td>1.000000</td>\n",
       "      <td>1.000000</td>\n",
       "    </tr>\n",
       "    <tr>\n",
       "      <th>1</th>\n",
       "      <td>0.999776</td>\n",
       "      <td>0.991651</td>\n",
       "      <td>0.996573</td>\n",
       "      <td>1.001117</td>\n",
       "      <td>1.010314</td>\n",
       "      <td>1.000462</td>\n",
       "      <td>0.997399</td>\n",
       "      <td>0.996299</td>\n",
       "      <td>1.005704</td>\n",
       "      <td>0.998865</td>\n",
       "      <td>...</td>\n",
       "      <td>0.999687</td>\n",
       "      <td>0.999208</td>\n",
       "      <td>0.997553</td>\n",
       "      <td>1.000466</td>\n",
       "      <td>1.000737</td>\n",
       "      <td>1.006126</td>\n",
       "      <td>1.002488</td>\n",
       "      <td>0.985731</td>\n",
       "      <td>1.000547</td>\n",
       "      <td>1.010165</td>\n",
       "    </tr>\n",
       "    <tr>\n",
       "      <th>2</th>\n",
       "      <td>1.007535</td>\n",
       "      <td>0.981258</td>\n",
       "      <td>0.992052</td>\n",
       "      <td>0.996021</td>\n",
       "      <td>1.007945</td>\n",
       "      <td>1.002285</td>\n",
       "      <td>0.996960</td>\n",
       "      <td>0.998699</td>\n",
       "      <td>1.007290</td>\n",
       "      <td>0.997955</td>\n",
       "      <td>...</td>\n",
       "      <td>1.008805</td>\n",
       "      <td>1.003094</td>\n",
       "      <td>1.005791</td>\n",
       "      <td>0.999094</td>\n",
       "      <td>0.994797</td>\n",
       "      <td>0.998511</td>\n",
       "      <td>1.007330</td>\n",
       "      <td>0.998908</td>\n",
       "      <td>1.002962</td>\n",
       "      <td>1.005596</td>\n",
       "    </tr>\n",
       "    <tr>\n",
       "      <th>3</th>\n",
       "      <td>1.010847</td>\n",
       "      <td>0.978922</td>\n",
       "      <td>0.982916</td>\n",
       "      <td>1.004977</td>\n",
       "      <td>1.002415</td>\n",
       "      <td>0.999663</td>\n",
       "      <td>0.998113</td>\n",
       "      <td>1.000246</td>\n",
       "      <td>1.003984</td>\n",
       "      <td>1.002344</td>\n",
       "      <td>...</td>\n",
       "      <td>1.010697</td>\n",
       "      <td>0.989787</td>\n",
       "      <td>1.003981</td>\n",
       "      <td>1.004087</td>\n",
       "      <td>0.995151</td>\n",
       "      <td>1.005454</td>\n",
       "      <td>1.005389</td>\n",
       "      <td>0.987712</td>\n",
       "      <td>0.998826</td>\n",
       "      <td>1.009364</td>\n",
       "    </tr>\n",
       "    <tr>\n",
       "      <th>4</th>\n",
       "      <td>0.998575</td>\n",
       "      <td>0.981017</td>\n",
       "      <td>0.985114</td>\n",
       "      <td>0.999372</td>\n",
       "      <td>0.999627</td>\n",
       "      <td>1.007637</td>\n",
       "      <td>0.996173</td>\n",
       "      <td>1.011668</td>\n",
       "      <td>1.002040</td>\n",
       "      <td>0.999961</td>\n",
       "      <td>...</td>\n",
       "      <td>1.014932</td>\n",
       "      <td>0.988066</td>\n",
       "      <td>1.018083</td>\n",
       "      <td>1.007424</td>\n",
       "      <td>0.996115</td>\n",
       "      <td>1.005320</td>\n",
       "      <td>1.008781</td>\n",
       "      <td>0.990887</td>\n",
       "      <td>1.000598</td>\n",
       "      <td>1.010804</td>\n",
       "    </tr>\n",
       "    <tr>\n",
       "      <th>...</th>\n",
       "      <td>...</td>\n",
       "      <td>...</td>\n",
       "      <td>...</td>\n",
       "      <td>...</td>\n",
       "      <td>...</td>\n",
       "      <td>...</td>\n",
       "      <td>...</td>\n",
       "      <td>...</td>\n",
       "      <td>...</td>\n",
       "      <td>...</td>\n",
       "      <td>...</td>\n",
       "      <td>...</td>\n",
       "      <td>...</td>\n",
       "      <td>...</td>\n",
       "      <td>...</td>\n",
       "      <td>...</td>\n",
       "      <td>...</td>\n",
       "      <td>...</td>\n",
       "      <td>...</td>\n",
       "      <td>...</td>\n",
       "      <td>...</td>\n",
       "    </tr>\n",
       "    <tr>\n",
       "      <th>7556</th>\n",
       "      <td>10.997584</td>\n",
       "      <td>4.125727</td>\n",
       "      <td>4.312820</td>\n",
       "      <td>5.903468</td>\n",
       "      <td>20.761119</td>\n",
       "      <td>6.882264</td>\n",
       "      <td>3.063987</td>\n",
       "      <td>6.719896</td>\n",
       "      <td>4.711290</td>\n",
       "      <td>12.784495</td>\n",
       "      <td>...</td>\n",
       "      <td>9.941563</td>\n",
       "      <td>11.347742</td>\n",
       "      <td>8.079767</td>\n",
       "      <td>4.438929</td>\n",
       "      <td>11.977504</td>\n",
       "      <td>15.479977</td>\n",
       "      <td>14.855059</td>\n",
       "      <td>7.340400</td>\n",
       "      <td>10.635107</td>\n",
       "      <td>4.718429</td>\n",
       "    </tr>\n",
       "    <tr>\n",
       "      <th>7557</th>\n",
       "      <td>10.976338</td>\n",
       "      <td>4.143867</td>\n",
       "      <td>4.303678</td>\n",
       "      <td>5.900581</td>\n",
       "      <td>20.587908</td>\n",
       "      <td>6.909469</td>\n",
       "      <td>3.064424</td>\n",
       "      <td>6.738653</td>\n",
       "      <td>4.692341</td>\n",
       "      <td>12.896195</td>\n",
       "      <td>...</td>\n",
       "      <td>9.942716</td>\n",
       "      <td>11.340258</td>\n",
       "      <td>8.131162</td>\n",
       "      <td>4.422496</td>\n",
       "      <td>12.033575</td>\n",
       "      <td>15.481336</td>\n",
       "      <td>14.863289</td>\n",
       "      <td>7.380070</td>\n",
       "      <td>10.680462</td>\n",
       "      <td>4.738056</td>\n",
       "    </tr>\n",
       "    <tr>\n",
       "      <th>7558</th>\n",
       "      <td>10.967726</td>\n",
       "      <td>4.178875</td>\n",
       "      <td>4.326528</td>\n",
       "      <td>5.922209</td>\n",
       "      <td>20.655021</td>\n",
       "      <td>6.920086</td>\n",
       "      <td>3.073679</td>\n",
       "      <td>6.822778</td>\n",
       "      <td>4.674661</td>\n",
       "      <td>12.884354</td>\n",
       "      <td>...</td>\n",
       "      <td>9.951745</td>\n",
       "      <td>11.296526</td>\n",
       "      <td>8.172024</td>\n",
       "      <td>4.389433</td>\n",
       "      <td>12.039531</td>\n",
       "      <td>15.452671</td>\n",
       "      <td>14.982262</td>\n",
       "      <td>7.481840</td>\n",
       "      <td>10.700458</td>\n",
       "      <td>4.723235</td>\n",
       "    </tr>\n",
       "    <tr>\n",
       "      <th>7559</th>\n",
       "      <td>11.012418</td>\n",
       "      <td>4.195493</td>\n",
       "      <td>4.327527</td>\n",
       "      <td>5.909975</td>\n",
       "      <td>20.824139</td>\n",
       "      <td>6.926578</td>\n",
       "      <td>3.068299</td>\n",
       "      <td>6.786520</td>\n",
       "      <td>4.682438</td>\n",
       "      <td>12.996671</td>\n",
       "      <td>...</td>\n",
       "      <td>10.046046</td>\n",
       "      <td>11.310862</td>\n",
       "      <td>8.226663</td>\n",
       "      <td>4.355114</td>\n",
       "      <td>12.015288</td>\n",
       "      <td>15.586782</td>\n",
       "      <td>15.097054</td>\n",
       "      <td>7.502999</td>\n",
       "      <td>10.579792</td>\n",
       "      <td>4.703247</td>\n",
       "    </tr>\n",
       "    <tr>\n",
       "      <th>7560</th>\n",
       "      <td>10.944176</td>\n",
       "      <td>4.195119</td>\n",
       "      <td>4.351672</td>\n",
       "      <td>5.870223</td>\n",
       "      <td>21.041521</td>\n",
       "      <td>6.902160</td>\n",
       "      <td>3.072989</td>\n",
       "      <td>6.821209</td>\n",
       "      <td>4.697417</td>\n",
       "      <td>13.086413</td>\n",
       "      <td>...</td>\n",
       "      <td>10.048445</td>\n",
       "      <td>11.290560</td>\n",
       "      <td>8.237599</td>\n",
       "      <td>4.398420</td>\n",
       "      <td>12.044397</td>\n",
       "      <td>15.553913</td>\n",
       "      <td>15.203078</td>\n",
       "      <td>7.512326</td>\n",
       "      <td>10.571462</td>\n",
       "      <td>4.705277</td>\n",
       "    </tr>\n",
       "  </tbody>\n",
       "</table>\n",
       "<p>7561 rows × 500 columns</p>\n",
       "</div>"
      ],
      "text/plain": [
       "            0         1         2         3          4         5         6    \\\n",
       "0      1.000000  1.000000  1.000000  1.000000   1.000000  1.000000  1.000000   \n",
       "1      0.999776  0.991651  0.996573  1.001117   1.010314  1.000462  0.997399   \n",
       "2      1.007535  0.981258  0.992052  0.996021   1.007945  1.002285  0.996960   \n",
       "3      1.010847  0.978922  0.982916  1.004977   1.002415  0.999663  0.998113   \n",
       "4      0.998575  0.981017  0.985114  0.999372   0.999627  1.007637  0.996173   \n",
       "...         ...       ...       ...       ...        ...       ...       ...   \n",
       "7556  10.997584  4.125727  4.312820  5.903468  20.761119  6.882264  3.063987   \n",
       "7557  10.976338  4.143867  4.303678  5.900581  20.587908  6.909469  3.064424   \n",
       "7558  10.967726  4.178875  4.326528  5.922209  20.655021  6.920086  3.073679   \n",
       "7559  11.012418  4.195493  4.327527  5.909975  20.824139  6.926578  3.068299   \n",
       "7560  10.944176  4.195119  4.351672  5.870223  21.041521  6.902160  3.072989   \n",
       "\n",
       "           7         8          9    ...        490        491       492  \\\n",
       "0     1.000000  1.000000   1.000000  ...   1.000000   1.000000  1.000000   \n",
       "1     0.996299  1.005704   0.998865  ...   0.999687   0.999208  0.997553   \n",
       "2     0.998699  1.007290   0.997955  ...   1.008805   1.003094  1.005791   \n",
       "3     1.000246  1.003984   1.002344  ...   1.010697   0.989787  1.003981   \n",
       "4     1.011668  1.002040   0.999961  ...   1.014932   0.988066  1.018083   \n",
       "...        ...       ...        ...  ...        ...        ...       ...   \n",
       "7556  6.719896  4.711290  12.784495  ...   9.941563  11.347742  8.079767   \n",
       "7557  6.738653  4.692341  12.896195  ...   9.942716  11.340258  8.131162   \n",
       "7558  6.822778  4.674661  12.884354  ...   9.951745  11.296526  8.172024   \n",
       "7559  6.786520  4.682438  12.996671  ...  10.046046  11.310862  8.226663   \n",
       "7560  6.821209  4.697417  13.086413  ...  10.048445  11.290560  8.237599   \n",
       "\n",
       "           493        494        495        496       497        498       499  \n",
       "0     1.000000   1.000000   1.000000   1.000000  1.000000   1.000000  1.000000  \n",
       "1     1.000466   1.000737   1.006126   1.002488  0.985731   1.000547  1.010165  \n",
       "2     0.999094   0.994797   0.998511   1.007330  0.998908   1.002962  1.005596  \n",
       "3     1.004087   0.995151   1.005454   1.005389  0.987712   0.998826  1.009364  \n",
       "4     1.007424   0.996115   1.005320   1.008781  0.990887   1.000598  1.010804  \n",
       "...        ...        ...        ...        ...       ...        ...       ...  \n",
       "7556  4.438929  11.977504  15.479977  14.855059  7.340400  10.635107  4.718429  \n",
       "7557  4.422496  12.033575  15.481336  14.863289  7.380070  10.680462  4.738056  \n",
       "7558  4.389433  12.039531  15.452671  14.982262  7.481840  10.700458  4.723235  \n",
       "7559  4.355114  12.015288  15.586782  15.097054  7.502999  10.579792  4.703247  \n",
       "7560  4.398420  12.044397  15.553913  15.203078  7.512326  10.571462  4.705277  \n",
       "\n",
       "[7561 rows x 500 columns]"
      ]
     },
     "execution_count": 19,
     "metadata": {},
     "output_type": "execute_result"
    }
   ],
   "source": [
    "# Running a Monte Carlo simulation to forecast 30 years cumulative returns\n",
    "df_portfolio_5years.calc_cumulative_return()"
   ]
  },
  {
   "cell_type": "code",
   "execution_count": 20,
   "metadata": {},
   "outputs": [
    {
     "data": {
      "image/png": "[encoded data removed]",
      "text/plain": [
       "<Figure size 432x288 with 1 Axes>"
      ]
     },
     "metadata": {
      "needs_background": "light"
     },
     "output_type": "display_data"
    }
   ],
   "source": [
    "# Plot simulation outcomes\n",
    "df_portfolio_5years = df_portfolio_5years.plot_simulation()"
   ]
  },
  {
   "cell_type": "code",
   "execution_count": 21,
   "metadata": {},
   "outputs": [],
   "source": [
    "# Plot probability distribution and confidence intervals\n"
   ]
  },
  {
   "cell_type": "markdown",
   "metadata": {},
   "source": [
    "### Retirement Analysis"
   ]
  },
  {
   "cell_type": "code",
   "execution_count": 22,
   "metadata": {},
   "outputs": [],
   "source": [
    "# Fetch summary statistics from the Monte Carlo simulation results\n",
    "# YOUR CODE HERE!\n",
    "\n",
    "# Print summary statistics\n",
    "# YOUR CODE HERE!"
   ]
  },
  {
   "cell_type": "markdown",
   "metadata": {},
   "source": [
    "### Calculate the expected portfolio return at the `95%` lower and upper confidence intervals based on a `$20,000` initial investment."
   ]
  },
  {
   "cell_type": "code",
   "execution_count": 23,
   "metadata": {},
   "outputs": [
    {
     "ename": "NameError",
     "evalue": "name 'ci_lower' is not defined",
     "output_type": "error",
     "traceback": [
      "\u001b[1;31m---------------------------------------------------------------------------\u001b[0m",
      "\u001b[1;31mNameError\u001b[0m                                 Traceback (most recent call last)",
      "\u001b[1;32m<ipython-input-23-9da7cb59ebed>\u001b[0m in \u001b[0;36m<module>\u001b[1;34m\u001b[0m\n\u001b[0;32m      6\u001b[0m \u001b[1;33m\u001b[0m\u001b[0m\n\u001b[0;32m      7\u001b[0m \u001b[1;31m# Print results\u001b[0m\u001b[1;33m\u001b[0m\u001b[1;33m\u001b[0m\u001b[1;33m\u001b[0m\u001b[0m\n\u001b[1;32m----> 8\u001b[1;33m print(f\"There is a 95% chance that an initial investment of ${initial_investment} in the portfolio\"\n\u001b[0m\u001b[0;32m      9\u001b[0m       \u001b[1;34mf\" over the next 30 years will end within in the range of\"\u001b[0m\u001b[1;33m\u001b[0m\u001b[1;33m\u001b[0m\u001b[0m\n\u001b[0;32m     10\u001b[0m       f\" ${ci_lower} and ${ci_upper}\")\n",
      "\u001b[1;31mNameError\u001b[0m: name 'ci_lower' is not defined"
     ]
    }
   ],
   "source": [
    "# Set initial investment\n",
    "initial_investment = 20000\n",
    "\n",
    "# Use the lower and upper `95%` confidence intervals to calculate the range of the possible outcomes of our $20,000\n",
    "# YOUR CODE HERE!\n",
    "\n",
    "# Print results\n",
    "print(f\"There is a 95% chance that an initial investment of ${initial_investment} in the portfolio\"\n",
    "      f\" over the next 30 years will end within in the range of\"\n",
    "      f\" ${ci_lower} and ${ci_upper}\")"
   ]
  },
  {
   "cell_type": "markdown",
   "metadata": {},
   "source": [
    "### Calculate the expected portfolio return at the `95%` lower and upper confidence intervals based on a `50%` increase in the initial investment."
   ]
  },
  {
   "cell_type": "code",
   "execution_count": null,
   "metadata": {},
   "outputs": [],
   "source": [
    "# Set initial investment\n",
    "initial_investment = 20000 * 1.5\n",
    "\n",
    "# Use the lower and upper `95%` confidence intervals to calculate the range of the possible outcomes of our $30,000\n",
    "# YOUR CODE HERE!\n",
    "\n",
    "# Print results\n",
    "print(f\"There is a 95% chance that an initial investment of ${initial_investment} in the portfolio\"\n",
    "      f\" over the next 30 years will end within in the range of\"\n",
    "      f\" ${ci_lower} and ${ci_upper}\")"
   ]
  },
  {
   "cell_type": "markdown",
   "metadata": {},
   "source": [
    "## Optional Challenge - Early Retirement\n",
    "\n",
    "\n",
    "### Five Years Retirement Option"
   ]
  },
  {
   "cell_type": "code",
   "execution_count": null,
   "metadata": {},
   "outputs": [],
   "source": [
    "# Configuring a Monte Carlo simulation to forecast 5 years cumulative returns\n",
    "# YOUR CODE HERE!"
   ]
  },
  {
   "cell_type": "code",
   "execution_count": null,
   "metadata": {},
   "outputs": [],
   "source": [
    "# Running a Monte Carlo simulation to forecast 5 years cumulative returns\n",
    "# YOUR CODE HERE!"
   ]
  },
  {
   "cell_type": "code",
   "execution_count": null,
   "metadata": {},
   "outputs": [],
   "source": [
    "# Plot simulation outcomes\n",
    "# YOUR CODE HERE!"
   ]
  },
  {
   "cell_type": "code",
   "execution_count": null,
   "metadata": {},
   "outputs": [],
   "source": [
    "# Plot probability distribution and confidence intervals\n",
    "# YOUR CODE HERE!"
   ]
  },
  {
   "cell_type": "code",
   "execution_count": null,
   "metadata": {},
   "outputs": [],
   "source": [
    "# Fetch summary statistics from the Monte Carlo simulation results\n",
    "# YOUR CODE HERE!\n",
    "\n",
    "# Print summary statistics\n",
    "# YOUR CODE HERE!"
   ]
  },
  {
   "cell_type": "code",
   "execution_count": null,
   "metadata": {},
   "outputs": [],
   "source": [
    "# Set initial investment\n",
    "# YOUR CODE HERE!\n",
    "\n",
    "# Use the lower and upper `95%` confidence intervals to calculate the range of the possible outcomes of our $60,000\n",
    "# YOUR CODE HERE!\n",
    "\n",
    "# Print results\n",
    "print(f\"There is a 95% chance that an initial investment of ${initial_investment} in the portfolio\"\n",
    "      f\" over the next 5 years will end within in the range of\"\n",
    "      f\" ${ci_lower_five} and ${ci_upper_five}\")"
   ]
  },
  {
   "cell_type": "markdown",
   "metadata": {},
   "source": [
    "### Ten Years Retirement Option"
   ]
  },
  {
   "cell_type": "code",
   "execution_count": null,
   "metadata": {},
   "outputs": [],
   "source": [
    "# Configuring a Monte Carlo simulation to forecast 10 years cumulative returns\n",
    "# YOUR CODE HERE!"
   ]
  },
  {
   "cell_type": "code",
   "execution_count": null,
   "metadata": {},
   "outputs": [],
   "source": [
    "# Running a Monte Carlo simulation to forecast 10 years cumulative returns\n",
    "# YOUR CODE HERE!"
   ]
  },
  {
   "cell_type": "code",
   "execution_count": null,
   "metadata": {},
   "outputs": [],
   "source": [
    "# Plot simulation outcomes\n",
    "# YOUR CODE HERE!"
   ]
  },
  {
   "cell_type": "code",
   "execution_count": null,
   "metadata": {},
   "outputs": [],
   "source": [
    "# Plot probability distribution and confidence intervals\n",
    "# YOUR CODE HERE!"
   ]
  },
  {
   "cell_type": "code",
   "execution_count": null,
   "metadata": {},
   "outputs": [],
   "source": [
    "# Fetch summary statistics from the Monte Carlo simulation results\n",
    "# YOUR CODE HERE!\n",
    "\n",
    "# Print summary statistics\n",
    "# YOUR CODE HERE!"
   ]
  },
  {
   "cell_type": "code",
   "execution_count": null,
   "metadata": {},
   "outputs": [],
   "source": [
    "# Set initial investment\n",
    "# YOUR CODE HERE!\n",
    "\n",
    "# Use the lower and upper `95%` confidence intervals to calculate the range of the possible outcomes of our $60,000\n",
    "# YOUR CODE HERE!\n",
    "\n",
    "# Print results\n",
    "print(f\"There is a 95% chance that an initial investment of ${initial_investment} in the portfolio\"\n",
    "      f\" over the next 10 years will end within in the range of\"\n",
    "      f\" ${ci_lower_ten} and ${ci_upper_ten}\")"
   ]
  },
  {
   "cell_type": "code",
   "execution_count": null,
   "metadata": {},
   "outputs": [],
   "source": []
  }
 ],
 "metadata": {
  "kernelspec": {
   "display_name": "Python 3",
   "language": "python",
   "name": "python3"
  },
  "language_info": {
   "codemirror_mode": {
    "name": "ipython",
    "version": 3
   },
   "file_extension": ".py",
   "mimetype": "text/x-python",
   "name": "python",
   "nbconvert_exporter": "python",
   "pygments_lexer": "ipython3",
   "version": "3.8.8"
  },
  "nteract": {
   "version": "0.28.0"
  }
 },
 "nbformat": 4,
 "nbformat_minor": 4
}
